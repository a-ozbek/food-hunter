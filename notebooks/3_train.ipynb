{
 "cells": [
  {
   "cell_type": "markdown",
   "metadata": {},
   "source": [
    "# 3 Train"
   ]
  },
  {
   "cell_type": "code",
   "execution_count": 1,
   "metadata": {},
   "outputs": [
    {
     "name": "stderr",
     "output_type": "stream",
     "text": [
      "Using TensorFlow backend.\n"
     ]
    }
   ],
   "source": [
    "import numpy as np\n",
    "from skimage import io\n",
    "from keras.models import Model, load_model\n",
    "from keras.applications import inception_v3\n",
    "from keras.layers import Dense, GlobalAveragePooling2D, Dropout\n",
    "from keras import losses, optimizers\n",
    "from keras.utils import np_utils\n",
    "from keras.preprocessing.image import ImageDataGenerator\n",
    "from keras import callbacks\n",
    "from sklearn import metrics\n",
    "import matplotlib.pyplot as plt\n",
    "%matplotlib inline\n",
    "RANDOM_SEED = 43\n",
    "np.random.seed(RANDOM_SEED)"
   ]
  },
  {
   "cell_type": "markdown",
   "metadata": {},
   "source": [
    "## Load Data"
   ]
  },
  {
   "cell_type": "code",
   "execution_count": 2,
   "metadata": {},
   "outputs": [
    {
     "name": "stdout",
     "output_type": "stream",
     "text": [
      "X_train.shape: (2992, 299, 299, 3)\n",
      "y_train.shape: (2992,)\n",
      "X_val.shape: (997, 299, 299, 3)\n",
      "y_val.shape: (997,)\n",
      "X_test.shape: (1000, 299, 299, 3)\n",
      "y_test.shape: (1000,)\n"
     ]
    }
   ],
   "source": [
    "# Load data\n",
    "X_train, y_train = np.load('./data/X_train.npy'), np.load('./data/y_train.npy')\n",
    "X_val, y_val = np.load('./data/X_val.npy'), np.load('./data/y_val.npy')\n",
    "X_test, y_test = np.load('./data/X_test.npy'), np.load('./data/y_test.npy')\n",
    "print 'X_train.shape:', X_train.shape\n",
    "print 'y_train.shape:', y_train.shape\n",
    "print 'X_val.shape:', X_val.shape\n",
    "print 'y_val.shape:', y_val.shape\n",
    "print 'X_test.shape:', X_test.shape\n",
    "print 'y_test.shape:', y_test.shape"
   ]
  },
  {
   "cell_type": "markdown",
   "metadata": {},
   "source": [
    "## Preprocess"
   ]
  },
  {
   "cell_type": "code",
   "execution_count": 3,
   "metadata": {
    "collapsed": true
   },
   "outputs": [],
   "source": [
    "# Preprocess function\n",
    "def preprocess_im(im):\n",
    "    im = im.astype(np.float32)\n",
    "    im = inception_v3.preprocess_input(im)\n",
    "    return im\n",
    "\n",
    "# Preprocess validation\n",
    "X_val = inception_v3.preprocess_input(X_val.astype(np.float32))\n",
    "\n",
    "# Preprocess y\n",
    "y_train = np_utils.to_categorical(y_train)\n",
    "y_val = np_utils.to_categorical(y_val)"
   ]
  },
  {
   "cell_type": "markdown",
   "metadata": {},
   "source": [
    "## Train Top Model"
   ]
  },
  {
   "cell_type": "code",
   "execution_count": 4,
   "metadata": {
    "scrolled": true
   },
   "outputs": [
    {
     "name": "stdout",
     "output_type": "stream",
     "text": [
      "Epoch 1/99\n",
      "45/46 [============================>.] - ETA: 0s - loss: 0.3714 - acc: 0.8375Epoch 00000: val_loss improved from inf to 0.18002, saving model to ./models/model_foodvsnot_v2.h5\n",
      "46/46 [==============================] - 30s - loss: 0.3676 - acc: 0.8397 - val_loss: 0.1800 - val_acc: 0.9378\n",
      "Epoch 2/99\n",
      "45/46 [============================>.] - ETA: 0s - loss: 0.1548 - acc: 0.9559Epoch 00001: val_loss improved from 0.18002 to 0.13065, saving model to ./models/model_foodvsnot_v2.h5\n",
      "46/46 [==============================] - 23s - loss: 0.1548 - acc: 0.9555 - val_loss: 0.1307 - val_acc: 0.9609\n",
      "Epoch 3/99\n",
      "45/46 [============================>.] - ETA: 0s - loss: 0.1196 - acc: 0.9678Epoch 00002: val_loss improved from 0.13065 to 0.10937, saving model to ./models/model_foodvsnot_v2.h5\n",
      "46/46 [==============================] - 23s - loss: 0.1203 - acc: 0.9675 - val_loss: 0.1094 - val_acc: 0.9639\n",
      "Epoch 4/99\n",
      "45/46 [============================>.] - ETA: 0s - loss: 0.1161 - acc: 0.9596Epoch 00003: val_loss did not improve\n",
      "\n",
      "Epoch 00003: reducing learning rate to 0.000330000015674.\n",
      "46/46 [==============================] - 23s - loss: 0.1169 - acc: 0.9591 - val_loss: 0.1436 - val_acc: 0.9549\n",
      "Epoch 5/99\n",
      "45/46 [============================>.] - ETA: 0s - loss: 0.1018 - acc: 0.9700Epoch 00004: val_loss improved from 0.10937 to 0.10770, saving model to ./models/model_foodvsnot_v2.h5\n",
      "46/46 [==============================] - 23s - loss: 0.1011 - acc: 0.9703 - val_loss: 0.1077 - val_acc: 0.9629\n",
      "Epoch 6/99\n",
      "45/46 [============================>.] - ETA: 0s - loss: 0.0888 - acc: 0.9728Epoch 00005: val_loss improved from 0.10770 to 0.08040, saving model to ./models/model_foodvsnot_v2.h5\n",
      "46/46 [==============================] - 23s - loss: 0.0883 - acc: 0.9731 - val_loss: 0.0804 - val_acc: 0.9789\n",
      "Epoch 7/99\n",
      "45/46 [============================>.] - ETA: 0s - loss: 0.0826 - acc: 0.9765Epoch 00006: val_loss did not improve\n",
      "\n",
      "Epoch 00006: reducing learning rate to 0.000108900003252.\n",
      "46/46 [==============================] - 23s - loss: 0.0827 - acc: 0.9763 - val_loss: 0.0935 - val_acc: 0.9699\n",
      "Epoch 8/99\n",
      "45/46 [============================>.] - ETA: 0s - loss: 0.0909 - acc: 0.9704Epoch 00007: val_loss did not improve\n",
      "\n",
      "Epoch 00007: reducing learning rate to 3.59369999205e-05.\n",
      "46/46 [==============================] - 22s - loss: 0.0910 - acc: 0.9703 - val_loss: 0.0894 - val_acc: 0.9719\n",
      "Epoch 00007: early stopping\n",
      "Top Model Train Done.\n"
     ]
    }
   ],
   "source": [
    "# ** Make model **\n",
    "# Base model\n",
    "base_model = inception_v3.InceptionV3(weights='imagenet', include_top=False)\n",
    "\n",
    "# Model\n",
    "x = base_model.output\n",
    "x = GlobalAveragePooling2D()(x)\n",
    "x = Dropout(0.33)(x)\n",
    "x = Dense(2, activation='softmax')(x)\n",
    "model = Model(inputs=base_model.input, outputs=x)\n",
    "\n",
    "# ** Configuation **\n",
    "# Freeze layers (Only top trainable)\n",
    "for layer in base_model.layers:\n",
    "    layer.trainable = False\n",
    "\n",
    "# Compile the model\n",
    "loss = losses.categorical_crossentropy\n",
    "optimizer = optimizers.Adam()\n",
    "metrics = ['accuracy']\n",
    "model.compile(loss=loss, optimizer=optimizer, metrics=metrics)\n",
    "\n",
    "# Callbacks\n",
    "m_q = 'val_loss'\n",
    "model_path = './models/model_foodvsnot_v2.h5'\n",
    "check_pt = callbacks.ModelCheckpoint(filepath=model_path, monitor=m_q, save_best_only=True, verbose=1)\n",
    "early_stop = callbacks.EarlyStopping(patience=1, monitor=m_q, verbose=1)\n",
    "reduce_lr = callbacks.ReduceLROnPlateau(patience=0, factor=0.33, monitor=m_q, verbose=1)\n",
    "callback_list = [check_pt, early_stop, reduce_lr]\n",
    "\n",
    "\n",
    "# ** Fit **\n",
    "# Data Generator\n",
    "datagen = ImageDataGenerator(horizontal_flip=True,  \n",
    "                             rotation_range=15,\n",
    "                             fill_mode='reflect',                          \n",
    "                             preprocessing_function=preprocess_im)\n",
    "\n",
    "\n",
    "# Batch size\n",
    "batch_size = 64\n",
    "\n",
    "# Fit\n",
    "model.fit_generator(datagen.flow(X_train, y_train, batch_size=batch_size),\n",
    "                    validation_data=(X_val, y_val),  \n",
    "                    epochs=99,\n",
    "                    steps_per_epoch=len(X_train)/batch_size,\n",
    "                    callbacks=callback_list)                    \n",
    "print 'Top Model Train Done.'"
   ]
  },
  {
   "cell_type": "markdown",
   "metadata": {},
   "source": [
    "## Train All Model - Finetune"
   ]
  },
  {
   "cell_type": "code",
   "execution_count": 5,
   "metadata": {
    "collapsed": true
   },
   "outputs": [],
   "source": [
    "# Load the model\n",
    "model = load_model('./models/model_foodvsnot_v2.h5')"
   ]
  },
  {
   "cell_type": "code",
   "execution_count": 6,
   "metadata": {
    "scrolled": true
   },
   "outputs": [
    {
     "name": "stdout",
     "output_type": "stream",
     "text": [
      "Epoch 1/99\n",
      "45/46 [============================>.] - ETA: 0s - loss: 0.0741 - acc: 0.9760Epoch 00000: val_loss improved from inf to 0.05884, saving model to ./models/model_foodvsnot_v2.h5\n",
      "46/46 [==============================] - 51s - loss: 0.0754 - acc: 0.9755 - val_loss: 0.0588 - val_acc: 0.9779\n",
      "Epoch 2/99\n",
      "45/46 [============================>.] - ETA: 0s - loss: 0.0359 - acc: 0.9888Epoch 00001: val_loss improved from 0.05884 to 0.05426, saving model to ./models/model_foodvsnot_v2.h5\n",
      "46/46 [==============================] - 39s - loss: 0.0356 - acc: 0.9890 - val_loss: 0.0543 - val_acc: 0.9809\n",
      "Epoch 3/99\n",
      "45/46 [============================>.] - ETA: 0s - loss: 0.0268 - acc: 0.9924Epoch 00002: val_loss improved from 0.05426 to 0.05081, saving model to ./models/model_foodvsnot_v2.h5\n",
      "46/46 [==============================] - 39s - loss: 0.0265 - acc: 0.9925 - val_loss: 0.0508 - val_acc: 0.9799\n",
      "Epoch 4/99\n",
      "45/46 [============================>.] - ETA: 0s - loss: 0.0213 - acc: 0.9954Epoch 00003: val_loss improved from 0.05081 to 0.04130, saving model to ./models/model_foodvsnot_v2.h5\n",
      "46/46 [==============================] - 39s - loss: 0.0218 - acc: 0.9951 - val_loss: 0.0413 - val_acc: 0.9840\n",
      "Epoch 5/99\n",
      "45/46 [============================>.] - ETA: 0s - loss: 0.0140 - acc: 0.9958Epoch 00004: val_loss improved from 0.04130 to 0.03981, saving model to ./models/model_foodvsnot_v2.h5\n",
      "46/46 [==============================] - 39s - loss: 0.0138 - acc: 0.9959 - val_loss: 0.0398 - val_acc: 0.9829\n",
      "Epoch 6/99\n",
      "45/46 [============================>.] - ETA: 0s - loss: 0.0144 - acc: 0.9957Epoch 00005: val_loss improved from 0.03981 to 0.03668, saving model to ./models/model_foodvsnot_v2.h5\n",
      "46/46 [==============================] - 39s - loss: 0.0143 - acc: 0.9958 - val_loss: 0.0367 - val_acc: 0.9840\n",
      "Epoch 7/99\n",
      "45/46 [============================>.] - ETA: 0s - loss: 0.0094 - acc: 0.9979Epoch 00006: val_loss did not improve\n",
      "\n",
      "Epoch 00006: reducing learning rate to 0.000330000015674.\n",
      "46/46 [==============================] - 39s - loss: 0.0094 - acc: 0.9980 - val_loss: 0.0373 - val_acc: 0.9829\n",
      "Epoch 8/99\n",
      "45/46 [============================>.] - ETA: 0s - loss: 0.0098 - acc: 0.9969Epoch 00007: val_loss improved from 0.03668 to 0.03558, saving model to ./models/model_foodvsnot_v2.h5\n",
      "46/46 [==============================] - 38s - loss: 0.0099 - acc: 0.9969 - val_loss: 0.0356 - val_acc: 0.9840\n",
      "Epoch 9/99\n",
      "45/46 [============================>.] - ETA: 0s - loss: 0.0063 - acc: 0.9990Epoch 00008: val_loss improved from 0.03558 to 0.03498, saving model to ./models/model_foodvsnot_v2.h5\n",
      "46/46 [==============================] - 39s - loss: 0.0062 - acc: 0.9990 - val_loss: 0.0350 - val_acc: 0.9840\n",
      "Epoch 10/99\n",
      "45/46 [============================>.] - ETA: 0s - loss: 0.0080 - acc: 0.9979Epoch 00009: val_loss improved from 0.03498 to 0.03403, saving model to ./models/model_foodvsnot_v2.h5\n",
      "46/46 [==============================] - 39s - loss: 0.0079 - acc: 0.9980 - val_loss: 0.0340 - val_acc: 0.9850\n",
      "Epoch 11/99\n",
      "45/46 [============================>.] - ETA: 0s - loss: 0.0056 - acc: 0.9997Epoch 00010: val_loss improved from 0.03403 to 0.03334, saving model to ./models/model_foodvsnot_v2.h5\n",
      "46/46 [==============================] - 39s - loss: 0.0057 - acc: 0.9997 - val_loss: 0.0333 - val_acc: 0.9850\n",
      "Epoch 12/99\n",
      "45/46 [============================>.] - ETA: 0s - loss: 0.0055 - acc: 0.9988Epoch 00011: val_loss did not improve\n",
      "\n",
      "Epoch 00011: reducing learning rate to 0.000108900003252.\n",
      "46/46 [==============================] - 38s - loss: 0.0055 - acc: 0.9989 - val_loss: 0.0334 - val_acc: 0.9860\n",
      "Epoch 13/99\n",
      "45/46 [============================>.] - ETA: 0s - loss: 0.0069 - acc: 0.9986Epoch 00012: val_loss improved from 0.03334 to 0.03306, saving model to ./models/model_foodvsnot_v2.h5\n",
      "46/46 [==============================] - 39s - loss: 0.0068 - acc: 0.9986 - val_loss: 0.0331 - val_acc: 0.9860\n",
      "Epoch 14/99\n",
      "45/46 [============================>.] - ETA: 0s - loss: 0.0049 - acc: 0.9993Epoch 00013: val_loss did not improve\n",
      "\n",
      "Epoch 00013: reducing learning rate to 3.59369999205e-05.\n",
      "46/46 [==============================] - 38s - loss: 0.0048 - acc: 0.9993 - val_loss: 0.0333 - val_acc: 0.9860\n",
      "Epoch 15/99\n",
      "45/46 [============================>.] - ETA: 0s - loss: 0.0116 - acc: 0.9957Epoch 00014: val_loss did not improve\n",
      "\n",
      "Epoch 00014: reducing learning rate to 1.18592095896e-05.\n",
      "46/46 [==============================] - 38s - loss: 0.0114 - acc: 0.9958 - val_loss: 0.0332 - val_acc: 0.9860\n",
      "Epoch 00014: early stopping\n",
      "All Model Train Done.\n"
     ]
    }
   ],
   "source": [
    "# ** Configuation **\n",
    "# Open layers\n",
    "# for layer in model.layers[:249]:\n",
    "#     layer.trainable = False\n",
    "# for layer in model.layers[249:]:\n",
    "#     layer.trainable = True\n",
    "for layer in model.layers:\n",
    "    layer.trainable = True\n",
    "\n",
    "# Compile the model\n",
    "loss = losses.categorical_crossentropy\n",
    "optimizer = optimizers.SGD(lr=0.001, momentum=0.9)\n",
    "metrics = ['accuracy']\n",
    "model.compile(loss=loss, optimizer=optimizer, metrics=metrics)\n",
    "\n",
    "# Callbacks\n",
    "m_q = 'val_loss'\n",
    "model_path = './models/model_foodvsnot_v2.h5'\n",
    "check_pt = callbacks.ModelCheckpoint(filepath=model_path, monitor=m_q, save_best_only=True, verbose=1)\n",
    "early_stop = callbacks.EarlyStopping(patience=1, monitor=m_q, verbose=1)\n",
    "reduce_lr = callbacks.ReduceLROnPlateau(patience=0, factor=0.33, monitor=m_q, verbose=1)\n",
    "callback_list = [check_pt, early_stop, reduce_lr]\n",
    "\n",
    "\n",
    "# ** Fit **\n",
    "# Data Generator\n",
    "datagen = ImageDataGenerator(horizontal_flip=True,  \n",
    "                             rotation_range=15,\n",
    "                             fill_mode='reflect',                          \n",
    "                             preprocessing_function=preprocess_im)\n",
    "\n",
    "\n",
    "# Batch size\n",
    "batch_size = 64\n",
    "\n",
    "# Fit\n",
    "model.fit_generator(datagen.flow(X_train, y_train, batch_size=batch_size),\n",
    "                    validation_data=(X_val, y_val),  \n",
    "                    epochs=99,\n",
    "                    steps_per_epoch=len(X_train)/batch_size,\n",
    "                    callbacks=callback_list)                    \n",
    "print 'All Model Train Done.'"
   ]
  },
  {
   "cell_type": "markdown",
   "metadata": {
    "collapsed": true
   },
   "source": [
    "## Find Optimal Threshold\n",
    "\n",
    "Find optimal threshold by using validation data"
   ]
  },
  {
   "cell_type": "code",
   "execution_count": 3,
   "metadata": {
    "collapsed": true
   },
   "outputs": [],
   "source": [
    "# Load model\n",
    "model = load_model('./models/model_foodvsnot.h5')"
   ]
  },
  {
   "cell_type": "code",
   "execution_count": 4,
   "metadata": {},
   "outputs": [
    {
     "name": "stdout",
     "output_type": "stream",
     "text": [
      "997/997 [==============================] - 5s     \n"
     ]
    }
   ],
   "source": [
    "# Predict validation data\n",
    "p_val = model.predict(inception_v3.preprocess_input(X_val.astype(np.float32)), verbose=1)"
   ]
  },
  {
   "cell_type": "code",
   "execution_count": 15,
   "metadata": {},
   "outputs": [
    {
     "name": "stdout",
     "output_type": "stream",
     "text": [
      "Optimum Threshold: 0.766766766767\n",
      "Max. Accuracy: 0.98294884654\n"
     ]
    },
    {
     "data": {
      "image/png": "[encoded data removed]",
      "text/plain": [
       "<matplotlib.figure.Figure at 0x7f5349267d10>"
      ]
     },
     "metadata": {},
     "output_type": "display_data"
    }
   ],
   "source": [
    "# Calculate thresholds and accuracies\n",
    "thresholds = np.linspace(0, 1, 1000)\n",
    "accuracies = [np.mean(y_val == (p_val[:, 1] > t).astype(np.int)) for t in thresholds]\n",
    "# f1_scores = [metrics.f1_score(y_val, (p_val[:, 1] > t)) for t in thresholds]\n",
    "# Find optimum threshold\n",
    "optimum_pair = sorted(zip(thresholds, accuracies), key=lambda x: x[1])[-1]\n",
    "print 'Optimum Threshold:', optimum_pair[0]\n",
    "print 'Max. Accuracy:', optimum_pair[1]\n",
    "\n",
    "# Plot\n",
    "fig = plt.figure(figsize=(10, 6))\n",
    "plt.plot(thresholds, accuracies)\n",
    "# plt.plot(thresholds, f1_scores)\n",
    "plt.xlabel('Threshold');\n",
    "plt.ylabel('Score');\n",
    "plt.grid('on')"
   ]
  },
  {
   "cell_type": "code",
   "execution_count": null,
   "metadata": {
    "collapsed": true
   },
   "outputs": [],
   "source": []
  },
  {
   "cell_type": "code",
   "execution_count": null,
   "metadata": {
    "collapsed": true
   },
   "outputs": [],
   "source": []
  }
 ],
 "metadata": {
  "kernelspec": {
   "display_name": "Python 2",
   "language": "python",
   "name": "python2"
  },
  "language_info": {
   "codemirror_mode": {
    "name": "ipython",
    "version": 2
   },
   "file_extension": ".py",
   "mimetype": "text/x-python",
   "name": "python",
   "nbconvert_exporter": "python",
   "pygments_lexer": "ipython2",
   "version": "2.7.13"
  }
 },
 "nbformat": 4,
 "nbformat_minor": 2
}
