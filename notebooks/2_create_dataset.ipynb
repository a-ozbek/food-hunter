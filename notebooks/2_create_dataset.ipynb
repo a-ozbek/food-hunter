{
 "cells": [
  {
   "cell_type": "markdown",
   "metadata": {},
   "source": [
    "# 2 Create Dataset"
   ]
  },
  {
   "cell_type": "code",
   "execution_count": 1,
   "metadata": {
    "collapsed": true
   },
   "outputs": [],
   "source": [
    "import numpy as np\n",
    "from skimage import io, transform\n",
    "import os\n",
    "from tqdm import tqdm\n",
    "import matplotlib.pyplot as plt\n",
    "%matplotlib inline"
   ]
  },
  {
   "cell_type": "code",
   "execution_count": 2,
   "metadata": {
    "collapsed": true
   },
   "outputs": [],
   "source": [
    "TARGET_SIZE = (299, 299, 3)"
   ]
  },
  {
   "cell_type": "code",
   "execution_count": 3,
   "metadata": {},
   "outputs": [
    {
     "name": "stderr",
     "output_type": "stream",
     "text": [
      "  0%|          | 0/3000 [00:00<?, ?it/s]/home/can/anaconda2/lib/python2.7/site-packages/skimage/transform/_warps.py:84: UserWarning: The default mode, 'constant', will be changed to 'reflect' in skimage 0.15.\n",
      "  warn(\"The default mode, 'constant', will be changed to 'reflect' in \"\n",
      "100%|██████████| 3000/3000 [00:43<00:00, 72.42it/s]\n"
     ]
    },
    {
     "name": "stdout",
     "output_type": "stream",
     "text": [
      "X_train.shape: (2992, 299, 299, 3)\n",
      "y_train.shape: (2992,)\n"
     ]
    }
   ],
   "source": [
    "# * Train *\n",
    "# Filenames\n",
    "f_root = '../datasets/Food-5K/training/'\n",
    "f_train = [os.path.join(f_root, f) for f in os.listdir(f_root) if f.endswith('.jpg')]\n",
    "\n",
    "# Read the images\n",
    "X_train, y_train = [], []\n",
    "for f_im in tqdm(f_train):\n",
    "    im = io.imread(f_im)\n",
    "    if len(im.shape) == 3:\n",
    "        im = transform.resize(im, output_shape=TARGET_SIZE)\n",
    "        im = (im * 255.0).astype(np.uint8)\n",
    "        X_train.append(im)\n",
    "        y_train.append(int(os.path.basename(f_im)[0]))\n",
    "X_train = np.array(X_train)\n",
    "y_train = np.array(y_train)\n",
    "print 'X_train.shape:', X_train.shape\n",
    "print 'y_train.shape:', y_train.shape\n",
    "np.save('./data/X_train.npy', X_train)\n",
    "np.save('./data/y_train.npy', y_train)"
   ]
  },
  {
   "cell_type": "code",
   "execution_count": 4,
   "metadata": {},
   "outputs": [
    {
     "name": "stderr",
     "output_type": "stream",
     "text": [
      "100%|██████████| 1000/1000 [00:13<00:00, 71.58it/s]\n"
     ]
    },
    {
     "name": "stdout",
     "output_type": "stream",
     "text": [
      "X_val.shape: (997, 299, 299, 3)\n",
      "y_val.shape: (997,)\n"
     ]
    }
   ],
   "source": [
    "# * Validation *\n",
    "# Filenames\n",
    "f_root = '../datasets/Food-5K/validation/'\n",
    "f_val = [os.path.join(f_root, f) for f in os.listdir(f_root) if f.endswith('.jpg')]\n",
    "\n",
    "# Read the images\n",
    "X_val, y_val = [], []\n",
    "for f_im in tqdm(f_val):\n",
    "    im = io.imread(f_im)\n",
    "    if len(im.shape) == 3:\n",
    "        im = transform.resize(im, output_shape=TARGET_SIZE)\n",
    "        im = (im * 255.0).astype(np.uint8)\n",
    "        X_val.append(im)\n",
    "        y_val.append(int(os.path.basename(f_im)[0]))\n",
    "X_val = np.array(X_val)\n",
    "y_val = np.array(y_val)\n",
    "print 'X_val.shape:', X_val.shape\n",
    "print 'y_val.shape:', y_val.shape\n",
    "np.save('./data/X_val.npy', X_val)\n",
    "np.save('./data/y_val.npy', y_val)"
   ]
  },
  {
   "cell_type": "code",
   "execution_count": 5,
   "metadata": {},
   "outputs": [
    {
     "name": "stderr",
     "output_type": "stream",
     "text": [
      "100%|██████████| 1000/1000 [00:24<00:00, 40.60it/s]\n"
     ]
    },
    {
     "name": "stdout",
     "output_type": "stream",
     "text": [
      "X_test.shape: (1000, 299, 299, 3)\n",
      "y_test.shape: (1000,)\n"
     ]
    }
   ],
   "source": [
    "# * Validation *\n",
    "# Filenames\n",
    "f_root = '../datasets/Food-5K/evaluation/'\n",
    "f_test = [os.path.join(f_root, f) for f in os.listdir(f_root) if f.endswith('.jpg')]\n",
    "\n",
    "# Read the images\n",
    "X_test, y_test = [], []\n",
    "for f_im in tqdm(f_test):\n",
    "    im = io.imread(f_im)\n",
    "    if len(im.shape) == 3:\n",
    "        im = transform.resize(im, output_shape=TARGET_SIZE)\n",
    "        im = (im * 255.0).astype(np.uint8)\n",
    "        X_test.append(im)\n",
    "        y_test.append(int(os.path.basename(f_im)[0]))\n",
    "X_test = np.array(X_test)\n",
    "y_test = np.array(y_test)\n",
    "print 'X_test.shape:', X_test.shape\n",
    "print 'y_test.shape:', y_test.shape\n",
    "np.save('./data/X_test.npy', X_test)\n",
    "np.save('./data/y_test.npy', y_test)"
   ]
  },
  {
   "cell_type": "code",
   "execution_count": null,
   "metadata": {},
   "outputs": [],
   "source": []
  },
  {
   "cell_type": "code",
   "execution_count": null,
   "metadata": {
    "collapsed": true
   },
   "outputs": [],
   "source": []
  }
 ],
 "metadata": {
  "kernelspec": {
   "display_name": "Python 2",
   "language": "python",
   "name": "python2"
  },
  "language_info": {
   "codemirror_mode": {
    "name": "ipython",
    "version": 2
   },
   "file_extension": ".py",
   "mimetype": "text/x-python",
   "name": "python",
   "nbconvert_exporter": "python",
   "pygments_lexer": "ipython2",
   "version": "2.7.13"
  }
 },
 "nbformat": 4,
 "nbformat_minor": 2
}
